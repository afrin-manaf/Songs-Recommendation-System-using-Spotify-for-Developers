{
 "cells": [
  {
   "cell_type": "code",
   "execution_count": 1,
   "id": "004b1996",
   "metadata": {},
   "outputs": [],
   "source": [
    "import pandas as pd"
   ]
  },
  {
   "cell_type": "code",
   "execution_count": 180,
   "id": "682f3913",
   "metadata": {},
   "outputs": [],
   "source": [
    "df = pd.read_csv(\"spotify_millsongdata.csv\")"
   ]
  },
  {
   "cell_type": "code",
   "execution_count": 177,
   "id": "8732a400",
   "metadata": {},
   "outputs": [
    {
     "data": {
      "text/html": [
       "<div>\n",
       "<style scoped>\n",
       "    .dataframe tbody tr th:only-of-type {\n",
       "        vertical-align: middle;\n",
       "    }\n",
       "\n",
       "    .dataframe tbody tr th {\n",
       "        vertical-align: top;\n",
       "    }\n",
       "\n",
       "    .dataframe thead th {\n",
       "        text-align: right;\n",
       "    }\n",
       "</style>\n",
       "<table border=\"1\" class=\"dataframe\">\n",
       "  <thead>\n",
       "    <tr style=\"text-align: right;\">\n",
       "      <th></th>\n",
       "      <th>artist</th>\n",
       "      <th>song</th>\n",
       "      <th>text</th>\n",
       "    </tr>\n",
       "  </thead>\n",
       "  <tbody>\n",
       "    <tr>\n",
       "      <th>20382</th>\n",
       "      <td>Utopia</td>\n",
       "      <td>Caravan</td>\n",
       "      <td>moses went into the desert  \\r moses came back...</td>\n",
       "    </tr>\n",
       "    <tr>\n",
       "      <th>48029</th>\n",
       "      <td>Peter Cetera</td>\n",
       "      <td>Baby What A Big Surprise</td>\n",
       "      <td>right before my very eyes  \\r i thought that y...</td>\n",
       "    </tr>\n",
       "    <tr>\n",
       "      <th>36487</th>\n",
       "      <td>Iggy Pop</td>\n",
       "      <td>Look Away</td>\n",
       "      <td>now he was blond and she was dark  \\r they cal...</td>\n",
       "    </tr>\n",
       "    <tr>\n",
       "      <th>15958</th>\n",
       "      <td>Phil Collins</td>\n",
       "      <td>I Don't Want To Go</td>\n",
       "      <td>i don't want to see you go  \\r there's too muc...</td>\n",
       "    </tr>\n",
       "    <tr>\n",
       "      <th>12815</th>\n",
       "      <td>Metallica</td>\n",
       "      <td>Mama Said</td>\n",
       "      <td>mama she has taught me well  \\r told me when i...</td>\n",
       "    </tr>\n",
       "    <tr>\n",
       "      <th>3320</th>\n",
       "      <td>Coldplay</td>\n",
       "      <td>Viva La Vida</td>\n",
       "      <td>i used to rule the world  \\r seas would rise w...</td>\n",
       "    </tr>\n",
       "    <tr>\n",
       "      <th>8064</th>\n",
       "      <td>Human League</td>\n",
       "      <td>The Snake</td>\n",
       "      <td>join us, come and join us  \\r join us, come an...</td>\n",
       "    </tr>\n",
       "    <tr>\n",
       "      <th>9148</th>\n",
       "      <td>James Taylor</td>\n",
       "      <td>Sweet Baby James</td>\n",
       "      <td>there is a young cowboy, he lives on the range...</td>\n",
       "    </tr>\n",
       "    <tr>\n",
       "      <th>31974</th>\n",
       "      <td>Eurythmics</td>\n",
       "      <td>A Little Of You</td>\n",
       "      <td>there used to be a time  \\r i wore my heart up...</td>\n",
       "    </tr>\n",
       "    <tr>\n",
       "      <th>3793</th>\n",
       "      <td>David Bowie</td>\n",
       "      <td>If You Can See Me</td>\n",
       "      <td>if you can see me i can see you  \\r   \\r i cou...</td>\n",
       "    </tr>\n",
       "  </tbody>\n",
       "</table>\n",
       "</div>"
      ],
      "text/plain": [
       "             artist                      song  \\\n",
       "20382        Utopia                   Caravan   \n",
       "48029  Peter Cetera  Baby What A Big Surprise   \n",
       "36487      Iggy Pop                 Look Away   \n",
       "15958  Phil Collins        I Don't Want To Go   \n",
       "12815     Metallica                 Mama Said   \n",
       "3320       Coldplay              Viva La Vida   \n",
       "8064   Human League                 The Snake   \n",
       "9148   James Taylor          Sweet Baby James   \n",
       "31974    Eurythmics           A Little Of You   \n",
       "3793    David Bowie         If You Can See Me   \n",
       "\n",
       "                                                    text  \n",
       "20382  moses went into the desert  \\r moses came back...  \n",
       "48029  right before my very eyes  \\r i thought that y...  \n",
       "36487  now he was blond and she was dark  \\r they cal...  \n",
       "15958  i don't want to see you go  \\r there's too muc...  \n",
       "12815  mama she has taught me well  \\r told me when i...  \n",
       "3320   i used to rule the world  \\r seas would rise w...  \n",
       "8064   join us, come and join us  \\r join us, come an...  \n",
       "9148   there is a young cowboy, he lives on the range...  \n",
       "31974  there used to be a time  \\r i wore my heart up...  \n",
       "3793   if you can see me i can see you  \\r   \\r i cou...  "
      ]
     },
     "execution_count": 177,
     "metadata": {},
     "output_type": "execute_result"
    }
   ],
   "source": [
    "df.head(10)"
   ]
  },
  {
   "cell_type": "code",
   "execution_count": 181,
   "id": "5d5eec4f",
   "metadata": {},
   "outputs": [],
   "source": [
    "df=df.sample(5000).drop('link',axis=1).reset_index(drop=True)"
   ]
  },
  {
   "cell_type": "code",
   "execution_count": 182,
   "id": "c9c09132",
   "metadata": {},
   "outputs": [
    {
     "data": {
      "text/plain": [
       "(5000, 3)"
      ]
     },
     "execution_count": 182,
     "metadata": {},
     "output_type": "execute_result"
    }
   ],
   "source": [
    "df.shape"
   ]
  },
  {
   "cell_type": "code",
   "execution_count": 183,
   "id": "d08eafcc",
   "metadata": {},
   "outputs": [
    {
     "data": {
      "text/html": [
       "<div>\n",
       "<style scoped>\n",
       "    .dataframe tbody tr th:only-of-type {\n",
       "        vertical-align: middle;\n",
       "    }\n",
       "\n",
       "    .dataframe tbody tr th {\n",
       "        vertical-align: top;\n",
       "    }\n",
       "\n",
       "    .dataframe thead th {\n",
       "        text-align: right;\n",
       "    }\n",
       "</style>\n",
       "<table border=\"1\" class=\"dataframe\">\n",
       "  <thead>\n",
       "    <tr style=\"text-align: right;\">\n",
       "      <th></th>\n",
       "      <th>artist</th>\n",
       "      <th>song</th>\n",
       "      <th>text</th>\n",
       "    </tr>\n",
       "  </thead>\n",
       "  <tbody>\n",
       "    <tr>\n",
       "      <th>4995</th>\n",
       "      <td>Paul Simon</td>\n",
       "      <td>The 59th Street Bridge Song (Feelin Groovy)</td>\n",
       "      <td>Slow down, you move too fast.  \\r\\nYou got to ...</td>\n",
       "    </tr>\n",
       "    <tr>\n",
       "      <th>4996</th>\n",
       "      <td>David Bowie</td>\n",
       "      <td>Dodo</td>\n",
       "      <td>Now we can talk in confidence  \\r\\nDid you gue...</td>\n",
       "    </tr>\n",
       "    <tr>\n",
       "      <th>4997</th>\n",
       "      <td>Iggy Pop</td>\n",
       "      <td>Gimme Some Skin</td>\n",
       "      <td>Gimme some skin  \\r\\nGimme some skin  \\r\\nOh b...</td>\n",
       "    </tr>\n",
       "    <tr>\n",
       "      <th>4998</th>\n",
       "      <td>Leann Rimes</td>\n",
       "      <td>I Believe</td>\n",
       "      <td>I believe for every drop of rain that falls  \\...</td>\n",
       "    </tr>\n",
       "    <tr>\n",
       "      <th>4999</th>\n",
       "      <td>Blur</td>\n",
       "      <td>I Broadcast</td>\n",
       "      <td>I love the aspects of another city  \\r\\nThe re...</td>\n",
       "    </tr>\n",
       "  </tbody>\n",
       "</table>\n",
       "</div>"
      ],
      "text/plain": [
       "           artist                                         song  \\\n",
       "4995   Paul Simon  The 59th Street Bridge Song (Feelin Groovy)   \n",
       "4996  David Bowie                                         Dodo   \n",
       "4997     Iggy Pop                              Gimme Some Skin   \n",
       "4998  Leann Rimes                                    I Believe   \n",
       "4999         Blur                                  I Broadcast   \n",
       "\n",
       "                                                   text  \n",
       "4995  Slow down, you move too fast.  \\r\\nYou got to ...  \n",
       "4996  Now we can talk in confidence  \\r\\nDid you gue...  \n",
       "4997  Gimme some skin  \\r\\nGimme some skin  \\r\\nOh b...  \n",
       "4998  I believe for every drop of rain that falls  \\...  \n",
       "4999  I love the aspects of another city  \\r\\nThe re...  "
      ]
     },
     "execution_count": 183,
     "metadata": {},
     "output_type": "execute_result"
    }
   ],
   "source": [
    "df.tail(5)"
   ]
  },
  {
   "cell_type": "code",
   "execution_count": 184,
   "id": "ceaa982d",
   "metadata": {},
   "outputs": [
    {
     "data": {
      "text/plain": [
       "(5000, 3)"
      ]
     },
     "execution_count": 184,
     "metadata": {},
     "output_type": "execute_result"
    }
   ],
   "source": [
    "df.shape"
   ]
  },
  {
   "cell_type": "code",
   "execution_count": 185,
   "id": "e986a071",
   "metadata": {},
   "outputs": [
    {
     "ename": "ValueError",
     "evalue": "Cannot take a larger sample than population when 'replace=False'",
     "output_type": "error",
     "traceback": [
      "\u001b[1;31m---------------------------------------------------------------------------\u001b[0m",
      "\u001b[1;31mValueError\u001b[0m                                Traceback (most recent call last)",
      "Cell \u001b[1;32mIn[185], line 1\u001b[0m\n\u001b[1;32m----> 1\u001b[0m df \u001b[38;5;241m=\u001b[39m df\u001b[38;5;241m.\u001b[39msample(\u001b[38;5;241m6000\u001b[39m)\u001b[38;5;241m.\u001b[39mdrop(\u001b[38;5;124m'\u001b[39m\u001b[38;5;124mlink\u001b[39m\u001b[38;5;124m'\u001b[39m,axis\u001b[38;5;241m=\u001b[39m\u001b[38;5;241m1\u001b[39m)\u001b[38;5;241m.\u001b[39mreset_index(drop\u001b[38;5;241m=\u001b[39m\u001b[38;5;28;01mTrue\u001b[39;00m)\n",
      "File \u001b[1;32m~\\anaconda3\\Lib\\site-packages\\pandas\\core\\generic.py:5858\u001b[0m, in \u001b[0;36mNDFrame.sample\u001b[1;34m(self, n, frac, replace, weights, random_state, axis, ignore_index)\u001b[0m\n\u001b[0;32m   5855\u001b[0m \u001b[38;5;28;01mif\u001b[39;00m weights \u001b[38;5;129;01mis\u001b[39;00m \u001b[38;5;129;01mnot\u001b[39;00m \u001b[38;5;28;01mNone\u001b[39;00m:\n\u001b[0;32m   5856\u001b[0m     weights \u001b[38;5;241m=\u001b[39m sample\u001b[38;5;241m.\u001b[39mpreprocess_weights(\u001b[38;5;28mself\u001b[39m, weights, axis)\n\u001b[1;32m-> 5858\u001b[0m sampled_indices \u001b[38;5;241m=\u001b[39m sample\u001b[38;5;241m.\u001b[39msample(obj_len, size, replace, weights, rs)\n\u001b[0;32m   5859\u001b[0m result \u001b[38;5;241m=\u001b[39m \u001b[38;5;28mself\u001b[39m\u001b[38;5;241m.\u001b[39mtake(sampled_indices, axis\u001b[38;5;241m=\u001b[39maxis)\n\u001b[0;32m   5861\u001b[0m \u001b[38;5;28;01mif\u001b[39;00m ignore_index:\n",
      "File \u001b[1;32m~\\anaconda3\\Lib\\site-packages\\pandas\\core\\sample.py:151\u001b[0m, in \u001b[0;36msample\u001b[1;34m(obj_len, size, replace, weights, random_state)\u001b[0m\n\u001b[0;32m    148\u001b[0m     \u001b[38;5;28;01melse\u001b[39;00m:\n\u001b[0;32m    149\u001b[0m         \u001b[38;5;28;01mraise\u001b[39;00m \u001b[38;5;167;01mValueError\u001b[39;00m(\u001b[38;5;124m\"\u001b[39m\u001b[38;5;124mInvalid weights: weights sum to zero\u001b[39m\u001b[38;5;124m\"\u001b[39m)\n\u001b[1;32m--> 151\u001b[0m \u001b[38;5;28;01mreturn\u001b[39;00m random_state\u001b[38;5;241m.\u001b[39mchoice(obj_len, size\u001b[38;5;241m=\u001b[39msize, replace\u001b[38;5;241m=\u001b[39mreplace, p\u001b[38;5;241m=\u001b[39mweights)\u001b[38;5;241m.\u001b[39mastype(\n\u001b[0;32m    152\u001b[0m     np\u001b[38;5;241m.\u001b[39mintp, copy\u001b[38;5;241m=\u001b[39m\u001b[38;5;28;01mFalse\u001b[39;00m\n\u001b[0;32m    153\u001b[0m )\n",
      "File \u001b[1;32mmtrand.pyx:984\u001b[0m, in \u001b[0;36mnumpy.random.mtrand.RandomState.choice\u001b[1;34m()\u001b[0m\n",
      "\u001b[1;31mValueError\u001b[0m: Cannot take a larger sample than population when 'replace=False'"
     ]
    }
   ],
   "source": [
    "df = df.sample(6000).drop('link',axis=1).reset_index(drop=True)"
   ]
  },
  {
   "cell_type": "code",
   "execution_count": 186,
   "id": "64ef05d4",
   "metadata": {},
   "outputs": [
    {
     "ename": "KeyError",
     "evalue": "\"['link'] not found in axis\"",
     "output_type": "error",
     "traceback": [
      "\u001b[1;31m---------------------------------------------------------------------------\u001b[0m",
      "\u001b[1;31mKeyError\u001b[0m                                  Traceback (most recent call last)",
      "Cell \u001b[1;32mIn[186], line 1\u001b[0m\n\u001b[1;32m----> 1\u001b[0m df\u001b[38;5;241m=\u001b[39mdf\u001b[38;5;241m.\u001b[39mdrop(\u001b[38;5;124m'\u001b[39m\u001b[38;5;124mlink\u001b[39m\u001b[38;5;124m'\u001b[39m,axis\u001b[38;5;241m=\u001b[39m\u001b[38;5;241m1\u001b[39m)\u001b[38;5;241m.\u001b[39mreset_index(drop\u001b[38;5;241m=\u001b[39m\u001b[38;5;28;01mTrue\u001b[39;00m)\n",
      "File \u001b[1;32m~\\anaconda3\\Lib\\site-packages\\pandas\\core\\frame.py:5258\u001b[0m, in \u001b[0;36mDataFrame.drop\u001b[1;34m(self, labels, axis, index, columns, level, inplace, errors)\u001b[0m\n\u001b[0;32m   5110\u001b[0m \u001b[38;5;28;01mdef\u001b[39;00m \u001b[38;5;21mdrop\u001b[39m(\n\u001b[0;32m   5111\u001b[0m     \u001b[38;5;28mself\u001b[39m,\n\u001b[0;32m   5112\u001b[0m     labels: IndexLabel \u001b[38;5;241m=\u001b[39m \u001b[38;5;28;01mNone\u001b[39;00m,\n\u001b[1;32m   (...)\u001b[0m\n\u001b[0;32m   5119\u001b[0m     errors: IgnoreRaise \u001b[38;5;241m=\u001b[39m \u001b[38;5;124m\"\u001b[39m\u001b[38;5;124mraise\u001b[39m\u001b[38;5;124m\"\u001b[39m,\n\u001b[0;32m   5120\u001b[0m ) \u001b[38;5;241m-\u001b[39m\u001b[38;5;241m>\u001b[39m DataFrame \u001b[38;5;241m|\u001b[39m \u001b[38;5;28;01mNone\u001b[39;00m:\n\u001b[0;32m   5121\u001b[0m \u001b[38;5;250m    \u001b[39m\u001b[38;5;124;03m\"\"\"\u001b[39;00m\n\u001b[0;32m   5122\u001b[0m \u001b[38;5;124;03m    Drop specified labels from rows or columns.\u001b[39;00m\n\u001b[0;32m   5123\u001b[0m \n\u001b[1;32m   (...)\u001b[0m\n\u001b[0;32m   5256\u001b[0m \u001b[38;5;124;03m            weight  1.0     0.8\u001b[39;00m\n\u001b[0;32m   5257\u001b[0m \u001b[38;5;124;03m    \"\"\"\u001b[39;00m\n\u001b[1;32m-> 5258\u001b[0m     \u001b[38;5;28;01mreturn\u001b[39;00m \u001b[38;5;28msuper\u001b[39m()\u001b[38;5;241m.\u001b[39mdrop(\n\u001b[0;32m   5259\u001b[0m         labels\u001b[38;5;241m=\u001b[39mlabels,\n\u001b[0;32m   5260\u001b[0m         axis\u001b[38;5;241m=\u001b[39maxis,\n\u001b[0;32m   5261\u001b[0m         index\u001b[38;5;241m=\u001b[39mindex,\n\u001b[0;32m   5262\u001b[0m         columns\u001b[38;5;241m=\u001b[39mcolumns,\n\u001b[0;32m   5263\u001b[0m         level\u001b[38;5;241m=\u001b[39mlevel,\n\u001b[0;32m   5264\u001b[0m         inplace\u001b[38;5;241m=\u001b[39minplace,\n\u001b[0;32m   5265\u001b[0m         errors\u001b[38;5;241m=\u001b[39merrors,\n\u001b[0;32m   5266\u001b[0m     )\n",
      "File \u001b[1;32m~\\anaconda3\\Lib\\site-packages\\pandas\\core\\generic.py:4549\u001b[0m, in \u001b[0;36mNDFrame.drop\u001b[1;34m(self, labels, axis, index, columns, level, inplace, errors)\u001b[0m\n\u001b[0;32m   4547\u001b[0m \u001b[38;5;28;01mfor\u001b[39;00m axis, labels \u001b[38;5;129;01min\u001b[39;00m axes\u001b[38;5;241m.\u001b[39mitems():\n\u001b[0;32m   4548\u001b[0m     \u001b[38;5;28;01mif\u001b[39;00m labels \u001b[38;5;129;01mis\u001b[39;00m \u001b[38;5;129;01mnot\u001b[39;00m \u001b[38;5;28;01mNone\u001b[39;00m:\n\u001b[1;32m-> 4549\u001b[0m         obj \u001b[38;5;241m=\u001b[39m obj\u001b[38;5;241m.\u001b[39m_drop_axis(labels, axis, level\u001b[38;5;241m=\u001b[39mlevel, errors\u001b[38;5;241m=\u001b[39merrors)\n\u001b[0;32m   4551\u001b[0m \u001b[38;5;28;01mif\u001b[39;00m inplace:\n\u001b[0;32m   4552\u001b[0m     \u001b[38;5;28mself\u001b[39m\u001b[38;5;241m.\u001b[39m_update_inplace(obj)\n",
      "File \u001b[1;32m~\\anaconda3\\Lib\\site-packages\\pandas\\core\\generic.py:4591\u001b[0m, in \u001b[0;36mNDFrame._drop_axis\u001b[1;34m(self, labels, axis, level, errors, only_slice)\u001b[0m\n\u001b[0;32m   4589\u001b[0m         new_axis \u001b[38;5;241m=\u001b[39m axis\u001b[38;5;241m.\u001b[39mdrop(labels, level\u001b[38;5;241m=\u001b[39mlevel, errors\u001b[38;5;241m=\u001b[39merrors)\n\u001b[0;32m   4590\u001b[0m     \u001b[38;5;28;01melse\u001b[39;00m:\n\u001b[1;32m-> 4591\u001b[0m         new_axis \u001b[38;5;241m=\u001b[39m axis\u001b[38;5;241m.\u001b[39mdrop(labels, errors\u001b[38;5;241m=\u001b[39merrors)\n\u001b[0;32m   4592\u001b[0m     indexer \u001b[38;5;241m=\u001b[39m axis\u001b[38;5;241m.\u001b[39mget_indexer(new_axis)\n\u001b[0;32m   4594\u001b[0m \u001b[38;5;66;03m# Case for non-unique axis\u001b[39;00m\n\u001b[0;32m   4595\u001b[0m \u001b[38;5;28;01melse\u001b[39;00m:\n",
      "File \u001b[1;32m~\\anaconda3\\Lib\\site-packages\\pandas\\core\\indexes\\base.py:6699\u001b[0m, in \u001b[0;36mIndex.drop\u001b[1;34m(self, labels, errors)\u001b[0m\n\u001b[0;32m   6697\u001b[0m \u001b[38;5;28;01mif\u001b[39;00m mask\u001b[38;5;241m.\u001b[39many():\n\u001b[0;32m   6698\u001b[0m     \u001b[38;5;28;01mif\u001b[39;00m errors \u001b[38;5;241m!=\u001b[39m \u001b[38;5;124m\"\u001b[39m\u001b[38;5;124mignore\u001b[39m\u001b[38;5;124m\"\u001b[39m:\n\u001b[1;32m-> 6699\u001b[0m         \u001b[38;5;28;01mraise\u001b[39;00m \u001b[38;5;167;01mKeyError\u001b[39;00m(\u001b[38;5;124mf\u001b[39m\u001b[38;5;124m\"\u001b[39m\u001b[38;5;132;01m{\u001b[39;00m\u001b[38;5;28mlist\u001b[39m(labels[mask])\u001b[38;5;132;01m}\u001b[39;00m\u001b[38;5;124m not found in axis\u001b[39m\u001b[38;5;124m\"\u001b[39m)\n\u001b[0;32m   6700\u001b[0m     indexer \u001b[38;5;241m=\u001b[39m indexer[\u001b[38;5;241m~\u001b[39mmask]\n\u001b[0;32m   6701\u001b[0m \u001b[38;5;28;01mreturn\u001b[39;00m \u001b[38;5;28mself\u001b[39m\u001b[38;5;241m.\u001b[39mdelete(indexer)\n",
      "\u001b[1;31mKeyError\u001b[0m: \"['link'] not found in axis\""
     ]
    }
   ],
   "source": [
    "df=df.drop('link',axis=1).reset_index(drop=True)"
   ]
  },
  {
   "cell_type": "code",
   "execution_count": 187,
   "id": "85abce70",
   "metadata": {},
   "outputs": [
    {
     "data": {
      "text/html": [
       "<div>\n",
       "<style scoped>\n",
       "    .dataframe tbody tr th:only-of-type {\n",
       "        vertical-align: middle;\n",
       "    }\n",
       "\n",
       "    .dataframe tbody tr th {\n",
       "        vertical-align: top;\n",
       "    }\n",
       "\n",
       "    .dataframe thead th {\n",
       "        text-align: right;\n",
       "    }\n",
       "</style>\n",
       "<table border=\"1\" class=\"dataframe\">\n",
       "  <thead>\n",
       "    <tr style=\"text-align: right;\">\n",
       "      <th></th>\n",
       "      <th>artist</th>\n",
       "      <th>song</th>\n",
       "      <th>text</th>\n",
       "    </tr>\n",
       "  </thead>\n",
       "  <tbody>\n",
       "    <tr>\n",
       "      <th>0</th>\n",
       "      <td>Scorpions</td>\n",
       "      <td>I'm Leaving You</td>\n",
       "      <td>Ooh, girl, I'm leaving you  \\r\\nYes, I'm leavi...</td>\n",
       "    </tr>\n",
       "    <tr>\n",
       "      <th>1</th>\n",
       "      <td>Hank Snow</td>\n",
       "      <td>I'm Moving On</td>\n",
       "      <td>That big eight wheeler rollin' down the track ...</td>\n",
       "    </tr>\n",
       "    <tr>\n",
       "      <th>2</th>\n",
       "      <td>Ray Charles</td>\n",
       "      <td>That Lucky Old Sun Just Rolls Around Heaven</td>\n",
       "      <td>Up in the mornin'  \\r\\nOut on the job  \\r\\nWor...</td>\n",
       "    </tr>\n",
       "    <tr>\n",
       "      <th>3</th>\n",
       "      <td>Diana Ross</td>\n",
       "      <td>He's All I Got</td>\n",
       "      <td>You're a girl that hates to see others happy  ...</td>\n",
       "    </tr>\n",
       "    <tr>\n",
       "      <th>4</th>\n",
       "      <td>New Order</td>\n",
       "      <td>Ultraviolence</td>\n",
       "      <td>Who saw those dark eyes  \\r\\nWho saw those dar...</td>\n",
       "    </tr>\n",
       "    <tr>\n",
       "      <th>5</th>\n",
       "      <td>Fall Out Boy</td>\n",
       "      <td>I've Got All This Ringing In My Ears And None ...</td>\n",
       "      <td>You're a canary  \\r\\nI'm a coal mine  \\r\\n'Cau...</td>\n",
       "    </tr>\n",
       "    <tr>\n",
       "      <th>6</th>\n",
       "      <td>Frank Zappa</td>\n",
       "      <td>Catholic Girls</td>\n",
       "      <td>(Well)  \\r\\nCatholic Girls  \\r\\nWith a tiny li...</td>\n",
       "    </tr>\n",
       "    <tr>\n",
       "      <th>7</th>\n",
       "      <td>Rolling Stones</td>\n",
       "      <td>All Down The Line</td>\n",
       "      <td>Yeah, heard the diesel drumming all down the l...</td>\n",
       "    </tr>\n",
       "    <tr>\n",
       "      <th>8</th>\n",
       "      <td>Frank Sinatra</td>\n",
       "      <td>Bad, Bad Leroy Brown</td>\n",
       "      <td>Now the south side of Chicago  \\r\\nIs (it's) t...</td>\n",
       "    </tr>\n",
       "    <tr>\n",
       "      <th>9</th>\n",
       "      <td>Planetshakers</td>\n",
       "      <td>I'M FREE</td>\n",
       "      <td>VERSE  \\r\\nJoy, there' a joy in my soul  \\r\\nI...</td>\n",
       "    </tr>\n",
       "  </tbody>\n",
       "</table>\n",
       "</div>"
      ],
      "text/plain": [
       "           artist                                               song  \\\n",
       "0       Scorpions                                    I'm Leaving You   \n",
       "1       Hank Snow                                      I'm Moving On   \n",
       "2     Ray Charles        That Lucky Old Sun Just Rolls Around Heaven   \n",
       "3      Diana Ross                                     He's All I Got   \n",
       "4       New Order                                      Ultraviolence   \n",
       "5    Fall Out Boy  I've Got All This Ringing In My Ears And None ...   \n",
       "6     Frank Zappa                                     Catholic Girls   \n",
       "7  Rolling Stones                                  All Down The Line   \n",
       "8   Frank Sinatra                               Bad, Bad Leroy Brown   \n",
       "9   Planetshakers                                           I'M FREE   \n",
       "\n",
       "                                                text  \n",
       "0  Ooh, girl, I'm leaving you  \\r\\nYes, I'm leavi...  \n",
       "1  That big eight wheeler rollin' down the track ...  \n",
       "2  Up in the mornin'  \\r\\nOut on the job  \\r\\nWor...  \n",
       "3  You're a girl that hates to see others happy  ...  \n",
       "4  Who saw those dark eyes  \\r\\nWho saw those dar...  \n",
       "5  You're a canary  \\r\\nI'm a coal mine  \\r\\n'Cau...  \n",
       "6  (Well)  \\r\\nCatholic Girls  \\r\\nWith a tiny li...  \n",
       "7  Yeah, heard the diesel drumming all down the l...  \n",
       "8  Now the south side of Chicago  \\r\\nIs (it's) t...  \n",
       "9  VERSE  \\r\\nJoy, there' a joy in my soul  \\r\\nI...  "
      ]
     },
     "execution_count": 187,
     "metadata": {},
     "output_type": "execute_result"
    }
   ],
   "source": [
    "df.head(10)"
   ]
  },
  {
   "cell_type": "code",
   "execution_count": 188,
   "id": "a67b68d8",
   "metadata": {},
   "outputs": [
    {
     "data": {
      "text/html": [
       "<div>\n",
       "<style scoped>\n",
       "    .dataframe tbody tr th:only-of-type {\n",
       "        vertical-align: middle;\n",
       "    }\n",
       "\n",
       "    .dataframe tbody tr th {\n",
       "        vertical-align: top;\n",
       "    }\n",
       "\n",
       "    .dataframe thead th {\n",
       "        text-align: right;\n",
       "    }\n",
       "</style>\n",
       "<table border=\"1\" class=\"dataframe\">\n",
       "  <thead>\n",
       "    <tr style=\"text-align: right;\">\n",
       "      <th></th>\n",
       "      <th>artist</th>\n",
       "      <th>song</th>\n",
       "      <th>text</th>\n",
       "    </tr>\n",
       "  </thead>\n",
       "  <tbody>\n",
       "    <tr>\n",
       "      <th>0</th>\n",
       "      <td>Scorpions</td>\n",
       "      <td>I'm Leaving You</td>\n",
       "      <td>Ooh, girl, I'm leaving you  \\r\\nYes, I'm leavi...</td>\n",
       "    </tr>\n",
       "    <tr>\n",
       "      <th>1</th>\n",
       "      <td>Hank Snow</td>\n",
       "      <td>I'm Moving On</td>\n",
       "      <td>That big eight wheeler rollin' down the track ...</td>\n",
       "    </tr>\n",
       "    <tr>\n",
       "      <th>2</th>\n",
       "      <td>Ray Charles</td>\n",
       "      <td>That Lucky Old Sun Just Rolls Around Heaven</td>\n",
       "      <td>Up in the mornin'  \\r\\nOut on the job  \\r\\nWor...</td>\n",
       "    </tr>\n",
       "    <tr>\n",
       "      <th>3</th>\n",
       "      <td>Diana Ross</td>\n",
       "      <td>He's All I Got</td>\n",
       "      <td>You're a girl that hates to see others happy  ...</td>\n",
       "    </tr>\n",
       "    <tr>\n",
       "      <th>4</th>\n",
       "      <td>New Order</td>\n",
       "      <td>Ultraviolence</td>\n",
       "      <td>Who saw those dark eyes  \\r\\nWho saw those dar...</td>\n",
       "    </tr>\n",
       "    <tr>\n",
       "      <th>5</th>\n",
       "      <td>Fall Out Boy</td>\n",
       "      <td>I've Got All This Ringing In My Ears And None ...</td>\n",
       "      <td>You're a canary  \\r\\nI'm a coal mine  \\r\\n'Cau...</td>\n",
       "    </tr>\n",
       "    <tr>\n",
       "      <th>6</th>\n",
       "      <td>Frank Zappa</td>\n",
       "      <td>Catholic Girls</td>\n",
       "      <td>(Well)  \\r\\nCatholic Girls  \\r\\nWith a tiny li...</td>\n",
       "    </tr>\n",
       "    <tr>\n",
       "      <th>7</th>\n",
       "      <td>Rolling Stones</td>\n",
       "      <td>All Down The Line</td>\n",
       "      <td>Yeah, heard the diesel drumming all down the l...</td>\n",
       "    </tr>\n",
       "    <tr>\n",
       "      <th>8</th>\n",
       "      <td>Frank Sinatra</td>\n",
       "      <td>Bad, Bad Leroy Brown</td>\n",
       "      <td>Now the south side of Chicago  \\r\\nIs (it's) t...</td>\n",
       "    </tr>\n",
       "    <tr>\n",
       "      <th>9</th>\n",
       "      <td>Planetshakers</td>\n",
       "      <td>I'M FREE</td>\n",
       "      <td>VERSE  \\r\\nJoy, there' a joy in my soul  \\r\\nI...</td>\n",
       "    </tr>\n",
       "  </tbody>\n",
       "</table>\n",
       "</div>"
      ],
      "text/plain": [
       "           artist                                               song  \\\n",
       "0       Scorpions                                    I'm Leaving You   \n",
       "1       Hank Snow                                      I'm Moving On   \n",
       "2     Ray Charles        That Lucky Old Sun Just Rolls Around Heaven   \n",
       "3      Diana Ross                                     He's All I Got   \n",
       "4       New Order                                      Ultraviolence   \n",
       "5    Fall Out Boy  I've Got All This Ringing In My Ears And None ...   \n",
       "6     Frank Zappa                                     Catholic Girls   \n",
       "7  Rolling Stones                                  All Down The Line   \n",
       "8   Frank Sinatra                               Bad, Bad Leroy Brown   \n",
       "9   Planetshakers                                           I'M FREE   \n",
       "\n",
       "                                                text  \n",
       "0  Ooh, girl, I'm leaving you  \\r\\nYes, I'm leavi...  \n",
       "1  That big eight wheeler rollin' down the track ...  \n",
       "2  Up in the mornin'  \\r\\nOut on the job  \\r\\nWor...  \n",
       "3  You're a girl that hates to see others happy  ...  \n",
       "4  Who saw those dark eyes  \\r\\nWho saw those dar...  \n",
       "5  You're a canary  \\r\\nI'm a coal mine  \\r\\n'Cau...  \n",
       "6  (Well)  \\r\\nCatholic Girls  \\r\\nWith a tiny li...  \n",
       "7  Yeah, heard the diesel drumming all down the l...  \n",
       "8  Now the south side of Chicago  \\r\\nIs (it's) t...  \n",
       "9  VERSE  \\r\\nJoy, there' a joy in my soul  \\r\\nI...  "
      ]
     },
     "execution_count": 188,
     "metadata": {},
     "output_type": "execute_result"
    }
   ],
   "source": [
    "df.head(10)"
   ]
  },
  {
   "cell_type": "code",
   "execution_count": 189,
   "id": "4b9a2002",
   "metadata": {},
   "outputs": [
    {
     "data": {
      "text/plain": [
       "(5000, 3)"
      ]
     },
     "execution_count": 189,
     "metadata": {},
     "output_type": "execute_result"
    }
   ],
   "source": [
    " df.shape"
   ]
  },
  {
   "cell_type": "code",
   "execution_count": 190,
   "id": "03f40622",
   "metadata": {},
   "outputs": [],
   "source": [
    "df['text']=df['text'].str.lower().replace(r'^\\w\\s', '').replace(r'\\n', ' ',regex=True)"
   ]
  },
  {
   "cell_type": "code",
   "execution_count": 191,
   "id": "deb7d2b9",
   "metadata": {},
   "outputs": [
    {
     "ename": "TypeError",
     "evalue": "'method' object is not subscriptable",
     "output_type": "error",
     "traceback": [
      "\u001b[1;31m---------------------------------------------------------------------------\u001b[0m",
      "\u001b[1;31mTypeError\u001b[0m                                 Traceback (most recent call last)",
      "Cell \u001b[1;32mIn[191], line 1\u001b[0m\n\u001b[1;32m----> 1\u001b[0m df\u001b[38;5;241m.\u001b[39mtail[\u001b[38;5;241m10\u001b[39m]\n",
      "\u001b[1;31mTypeError\u001b[0m: 'method' object is not subscriptable"
     ]
    }
   ],
   "source": [
    "df.tail[10]"
   ]
  },
  {
   "cell_type": "code",
   "execution_count": 192,
   "id": "25a59544",
   "metadata": {},
   "outputs": [
    {
     "data": {
      "text/html": [
       "<div>\n",
       "<style scoped>\n",
       "    .dataframe tbody tr th:only-of-type {\n",
       "        vertical-align: middle;\n",
       "    }\n",
       "\n",
       "    .dataframe tbody tr th {\n",
       "        vertical-align: top;\n",
       "    }\n",
       "\n",
       "    .dataframe thead th {\n",
       "        text-align: right;\n",
       "    }\n",
       "</style>\n",
       "<table border=\"1\" class=\"dataframe\">\n",
       "  <thead>\n",
       "    <tr style=\"text-align: right;\">\n",
       "      <th></th>\n",
       "      <th>artist</th>\n",
       "      <th>song</th>\n",
       "      <th>text</th>\n",
       "    </tr>\n",
       "  </thead>\n",
       "  <tbody>\n",
       "    <tr>\n",
       "      <th>4990</th>\n",
       "      <td>Mariah Carey</td>\n",
       "      <td>Hate You</td>\n",
       "      <td>ah... ahh... ahh...  \\r ahh... ahh...  \\r ooh ...</td>\n",
       "    </tr>\n",
       "    <tr>\n",
       "      <th>4991</th>\n",
       "      <td>Harry Connick, Jr.</td>\n",
       "      <td>Yes We Can Can</td>\n",
       "      <td>now is the time for all good men to get togeth...</td>\n",
       "    </tr>\n",
       "    <tr>\n",
       "      <th>4992</th>\n",
       "      <td>Death</td>\n",
       "      <td>Within The Mind</td>\n",
       "      <td>transforming your mind from the inside out  \\r...</td>\n",
       "    </tr>\n",
       "    <tr>\n",
       "      <th>4993</th>\n",
       "      <td>Dolly Parton</td>\n",
       "      <td>Heartbreaker</td>\n",
       "      <td>here i sit all alone, thinkin' 'bout what i sh...</td>\n",
       "    </tr>\n",
       "    <tr>\n",
       "      <th>4994</th>\n",
       "      <td>Ed Sheeran</td>\n",
       "      <td>Heaven</td>\n",
       "      <td>will you recognise me, in the flashing lights ...</td>\n",
       "    </tr>\n",
       "    <tr>\n",
       "      <th>4995</th>\n",
       "      <td>Paul Simon</td>\n",
       "      <td>The 59th Street Bridge Song (Feelin Groovy)</td>\n",
       "      <td>slow down, you move too fast.  \\r you got to m...</td>\n",
       "    </tr>\n",
       "    <tr>\n",
       "      <th>4996</th>\n",
       "      <td>David Bowie</td>\n",
       "      <td>Dodo</td>\n",
       "      <td>now we can talk in confidence  \\r did you gues...</td>\n",
       "    </tr>\n",
       "    <tr>\n",
       "      <th>4997</th>\n",
       "      <td>Iggy Pop</td>\n",
       "      <td>Gimme Some Skin</td>\n",
       "      <td>gimme some skin  \\r gimme some skin  \\r oh bab...</td>\n",
       "    </tr>\n",
       "    <tr>\n",
       "      <th>4998</th>\n",
       "      <td>Leann Rimes</td>\n",
       "      <td>I Believe</td>\n",
       "      <td>i believe for every drop of rain that falls  \\...</td>\n",
       "    </tr>\n",
       "    <tr>\n",
       "      <th>4999</th>\n",
       "      <td>Blur</td>\n",
       "      <td>I Broadcast</td>\n",
       "      <td>i love the aspects of another city  \\r the rep...</td>\n",
       "    </tr>\n",
       "  </tbody>\n",
       "</table>\n",
       "</div>"
      ],
      "text/plain": [
       "                  artist                                         song  \\\n",
       "4990        Mariah Carey                                     Hate You   \n",
       "4991  Harry Connick, Jr.                               Yes We Can Can   \n",
       "4992               Death                              Within The Mind   \n",
       "4993        Dolly Parton                                 Heartbreaker   \n",
       "4994          Ed Sheeran                                       Heaven   \n",
       "4995          Paul Simon  The 59th Street Bridge Song (Feelin Groovy)   \n",
       "4996         David Bowie                                         Dodo   \n",
       "4997            Iggy Pop                              Gimme Some Skin   \n",
       "4998         Leann Rimes                                    I Believe   \n",
       "4999                Blur                                  I Broadcast   \n",
       "\n",
       "                                                   text  \n",
       "4990  ah... ahh... ahh...  \\r ahh... ahh...  \\r ooh ...  \n",
       "4991  now is the time for all good men to get togeth...  \n",
       "4992  transforming your mind from the inside out  \\r...  \n",
       "4993  here i sit all alone, thinkin' 'bout what i sh...  \n",
       "4994  will you recognise me, in the flashing lights ...  \n",
       "4995  slow down, you move too fast.  \\r you got to m...  \n",
       "4996  now we can talk in confidence  \\r did you gues...  \n",
       "4997  gimme some skin  \\r gimme some skin  \\r oh bab...  \n",
       "4998  i believe for every drop of rain that falls  \\...  \n",
       "4999  i love the aspects of another city  \\r the rep...  "
      ]
     },
     "execution_count": 192,
     "metadata": {},
     "output_type": "execute_result"
    }
   ],
   "source": [
    "df.tail(10)"
   ]
  },
  {
   "cell_type": "code",
   "execution_count": 193,
   "id": "49bd497e",
   "metadata": {},
   "outputs": [
    {
     "name": "stderr",
     "output_type": "stream",
     "text": [
      "[nltk_data] Downloading package punkt to\n",
      "[nltk_data]     C:\\Users\\User\\AppData\\Roaming\\nltk_data...\n",
      "[nltk_data]   Package punkt is already up-to-date!\n"
     ]
    }
   ],
   "source": [
    "import nltk\n",
    "nltk.download('punkt')\n",
    "from nltk.stem.porter import PorterStemmer"
   ]
  },
  {
   "cell_type": "code",
   "execution_count": 194,
   "id": "d69ec508",
   "metadata": {},
   "outputs": [],
   "source": [
    "stemmer = PorterStemmer()"
   ]
  },
  {
   "cell_type": "code",
   "execution_count": 196,
   "id": "76f71141",
   "metadata": {},
   "outputs": [
    {
     "ename": "IndentationError",
     "evalue": "unindent does not match any outer indentation level (<tokenize>, line 3)",
     "output_type": "error",
     "traceback": [
      "\u001b[1;36m  File \u001b[1;32m<tokenize>:3\u001b[1;36m\u001b[0m\n\u001b[1;33m    a=[stemmer.stem(w) for w in token]\u001b[0m\n\u001b[1;37m    ^\u001b[0m\n\u001b[1;31mIndentationError\u001b[0m\u001b[1;31m:\u001b[0m unindent does not match any outer indentation level\n"
     ]
    }
   ],
   "source": [
    "def token(txt):\n",
    "    token = nltk.word_tokenize(txt)\n",
    "   a=[stemmer.stem(w) for w in token]"
   ]
  },
  {
   "cell_type": "code",
   "execution_count": 198,
   "id": "a4cfebf9",
   "metadata": {},
   "outputs": [
    {
     "ename": "IndentationError",
     "evalue": "unindent does not match any outer indentation level (<tokenize>, line 3)",
     "output_type": "error",
     "traceback": [
      "\u001b[1;36m  File \u001b[1;32m<tokenize>:3\u001b[1;36m\u001b[0m\n\u001b[1;33m    a =[stemmer.stem(w) for w in token]\u001b[0m\n\u001b[1;37m    ^\u001b[0m\n\u001b[1;31mIndentationError\u001b[0m\u001b[1;31m:\u001b[0m unindent does not match any outer indentation level\n"
     ]
    }
   ],
   "source": [
    "def token(txt):\n",
    "    token = nltk.word_tokenize(txt)\n",
    "   a =[stemmer.stem(w) for w in token]"
   ]
  },
  {
   "cell_type": "code",
   "execution_count": 199,
   "id": "35490a30",
   "metadata": {},
   "outputs": [],
   "source": [
    "def token(txt):\n",
    "    token = nltk.word_tokenize(txt)\n",
    "    a =[stemmer.stem(w) for w in token]\n",
    "    return \" \".join(a)"
   ]
  },
  {
   "cell_type": "code",
   "execution_count": 200,
   "id": "fde4aeb9",
   "metadata": {},
   "outputs": [
    {
     "data": {
      "text/plain": [
       "'you are beauti , beauti'"
      ]
     },
     "execution_count": 200,
     "metadata": {},
     "output_type": "execute_result"
    }
   ],
   "source": [
    "token(\"you are beautiful, beauty\")"
   ]
  },
  {
   "cell_type": "code",
   "execution_count": 201,
   "id": "b5218981",
   "metadata": {},
   "outputs": [
    {
     "data": {
      "text/plain": [
       "0       ooh , girl , i 'm leav you ye , i 'm leav you ...\n",
       "1       that big eight wheeler rollin ' down the track...\n",
       "2       up in the mornin ' out on the job work like th...\n",
       "3       you 're a girl that hate to see other happi un...\n",
       "4       who saw those dark eye who saw those dark eye ...\n",
       "                              ...                        \n",
       "4995    slow down , you move too fast . you got to mak...\n",
       "4996    now we can talk in confid did you guess that w...\n",
       "4997    gim me some skin gim me some skin oh babi gim ...\n",
       "4998    i believ for everi drop of rain that fall a fl...\n",
       "4999    i love the aspect of anoth citi the repres are...\n",
       "Name: text, Length: 5000, dtype: object"
      ]
     },
     "execution_count": 201,
     "metadata": {},
     "output_type": "execute_result"
    }
   ],
   "source": [
    "df['text'].apply(lambda x: token(x))"
   ]
  },
  {
   "cell_type": "code",
   "execution_count": 202,
   "id": "8d74b949",
   "metadata": {},
   "outputs": [],
   "source": [
    "from sklearn.feature_extraction.text import TfidfVectorizer\n",
    "from sklearn.metrics.pairwise import cosine_similarity"
   ]
  },
  {
   "cell_type": "code",
   "execution_count": 203,
   "id": "c358b4e1",
   "metadata": {},
   "outputs": [],
   "source": [
    "tfid = TfidfVectorizer(analyzer='word', stop_words='english')"
   ]
  },
  {
   "cell_type": "code",
   "execution_count": 204,
   "id": "04183f6e",
   "metadata": {},
   "outputs": [],
   "source": [
    "matrix=tfid.fit_transform(df['text'])"
   ]
  },
  {
   "cell_type": "code",
   "execution_count": 205,
   "id": "085f6f08",
   "metadata": {},
   "outputs": [],
   "source": [
    "similer=cosine_similarity(matrix)"
   ]
  },
  {
   "cell_type": "code",
   "execution_count": 206,
   "id": "19bfdcf0",
   "metadata": {},
   "outputs": [
    {
     "data": {
      "text/plain": [
       "array([1.        , 0.04611343, 0.0314835 , ..., 0.03234108, 0.02206596,\n",
       "       0.00938053])"
      ]
     },
     "execution_count": 206,
     "metadata": {},
     "output_type": "execute_result"
    }
   ],
   "source": [
    "similer[0]"
   ]
  },
  {
   "cell_type": "code",
   "execution_count": 207,
   "id": "0ae79235",
   "metadata": {},
   "outputs": [
    {
     "data": {
      "text/html": [
       "<div>\n",
       "<style scoped>\n",
       "    .dataframe tbody tr th:only-of-type {\n",
       "        vertical-align: middle;\n",
       "    }\n",
       "\n",
       "    .dataframe tbody tr th {\n",
       "        vertical-align: top;\n",
       "    }\n",
       "\n",
       "    .dataframe thead th {\n",
       "        text-align: right;\n",
       "    }\n",
       "</style>\n",
       "<table border=\"1\" class=\"dataframe\">\n",
       "  <thead>\n",
       "    <tr style=\"text-align: right;\">\n",
       "      <th></th>\n",
       "      <th>artist</th>\n",
       "      <th>song</th>\n",
       "      <th>text</th>\n",
       "    </tr>\n",
       "  </thead>\n",
       "  <tbody>\n",
       "  </tbody>\n",
       "</table>\n",
       "</div>"
      ],
      "text/plain": [
       "Empty DataFrame\n",
       "Columns: [artist, song, text]\n",
       "Index: []"
      ]
     },
     "execution_count": 207,
     "metadata": {},
     "output_type": "execute_result"
    }
   ],
   "source": [
    "df[df['song']=='Waiting For The Man']"
   ]
  },
  {
   "cell_type": "code",
   "execution_count": 208,
   "id": "b7228611",
   "metadata": {},
   "outputs": [
    {
     "ename": "IndexError",
     "evalue": "index 0 is out of bounds for axis 0 with size 0",
     "output_type": "error",
     "traceback": [
      "\u001b[1;31m---------------------------------------------------------------------------\u001b[0m",
      "\u001b[1;31mIndexError\u001b[0m                                Traceback (most recent call last)",
      "Cell \u001b[1;32mIn[208], line 1\u001b[0m\n\u001b[1;32m----> 1\u001b[0m df[df[\u001b[38;5;124m'\u001b[39m\u001b[38;5;124msong\u001b[39m\u001b[38;5;124m'\u001b[39m]\u001b[38;5;241m==\u001b[39m\u001b[38;5;124m'\u001b[39m\u001b[38;5;124mWaiting For The Man\u001b[39m\u001b[38;5;124m'\u001b[39m]\u001b[38;5;241m.\u001b[39mindex[\u001b[38;5;241m0\u001b[39m]\n",
      "File \u001b[1;32m~\\anaconda3\\Lib\\site-packages\\pandas\\core\\indexes\\base.py:5175\u001b[0m, in \u001b[0;36mIndex.__getitem__\u001b[1;34m(self, key)\u001b[0m\n\u001b[0;32m   5172\u001b[0m \u001b[38;5;28;01mif\u001b[39;00m is_integer(key) \u001b[38;5;129;01mor\u001b[39;00m is_float(key):\n\u001b[0;32m   5173\u001b[0m     \u001b[38;5;66;03m# GH#44051 exclude bool, which would return a 2d ndarray\u001b[39;00m\n\u001b[0;32m   5174\u001b[0m     key \u001b[38;5;241m=\u001b[39m com\u001b[38;5;241m.\u001b[39mcast_scalar_indexer(key)\n\u001b[1;32m-> 5175\u001b[0m     \u001b[38;5;28;01mreturn\u001b[39;00m getitem(key)\n\u001b[0;32m   5177\u001b[0m \u001b[38;5;28;01mif\u001b[39;00m \u001b[38;5;28misinstance\u001b[39m(key, \u001b[38;5;28mslice\u001b[39m):\n\u001b[0;32m   5178\u001b[0m     \u001b[38;5;66;03m# This case is separated from the conditional above to avoid\u001b[39;00m\n\u001b[0;32m   5179\u001b[0m     \u001b[38;5;66;03m# pessimization com.is_bool_indexer and ndim checks.\u001b[39;00m\n\u001b[0;32m   5180\u001b[0m     result \u001b[38;5;241m=\u001b[39m getitem(key)\n",
      "\u001b[1;31mIndexError\u001b[0m: index 0 is out of bounds for axis 0 with size 0"
     ]
    }
   ],
   "source": [
    "df[df['song']=='Waiting For The Man'].index[0]"
   ]
  },
  {
   "cell_type": "code",
   "execution_count": null,
   "id": "43bed9c8",
   "metadata": {},
   "outputs": [],
   "source": [
    "df[df['song']=='As Good As New'].index[0]"
   ]
  },
  {
   "cell_type": "code",
   "execution_count": null,
   "id": "95e80d52",
   "metadata": {},
   "outputs": [],
   "source": [
    "df[df['song']=='Waiting For The Man']"
   ]
  },
  {
   "cell_type": "code",
   "execution_count": null,
   "id": "14dca0fa",
   "metadata": {},
   "outputs": [],
   "source": [
    "df[df['song']=='Waiting For The Man'] "
   ]
  },
  {
   "cell_type": "code",
   "execution_count": null,
   "id": "60c0e112",
   "metadata": {},
   "outputs": [],
   "source": [
    "df.shape"
   ]
  },
  {
   "cell_type": "code",
   "execution_count": null,
   "id": "b34a5644",
   "metadata": {},
   "outputs": [],
   "source": [
    "df.tail(10)"
   ]
  },
  {
   "cell_type": "code",
   "execution_count": 216,
   "id": "4d3d9dce",
   "metadata": {},
   "outputs": [
    {
     "data": {
      "text/plain": [
       "(5000, 3)"
      ]
     },
     "execution_count": 216,
     "metadata": {},
     "output_type": "execute_result"
    }
   ],
   "source": [
    "df.shape"
   ]
  },
  {
   "cell_type": "code",
   "execution_count": 217,
   "id": "1c578736",
   "metadata": {},
   "outputs": [
    {
     "data": {
      "text/html": [
       "<div>\n",
       "<style scoped>\n",
       "    .dataframe tbody tr th:only-of-type {\n",
       "        vertical-align: middle;\n",
       "    }\n",
       "\n",
       "    .dataframe tbody tr th {\n",
       "        vertical-align: top;\n",
       "    }\n",
       "\n",
       "    .dataframe thead th {\n",
       "        text-align: right;\n",
       "    }\n",
       "</style>\n",
       "<table border=\"1\" class=\"dataframe\">\n",
       "  <thead>\n",
       "    <tr style=\"text-align: right;\">\n",
       "      <th></th>\n",
       "      <th>artist</th>\n",
       "      <th>song</th>\n",
       "      <th>text</th>\n",
       "    </tr>\n",
       "  </thead>\n",
       "  <tbody>\n",
       "    <tr>\n",
       "      <th>4995</th>\n",
       "      <td>Paul Simon</td>\n",
       "      <td>The 59th Street Bridge Song (Feelin Groovy)</td>\n",
       "      <td>slow down, you move too fast.  \\r you got to m...</td>\n",
       "    </tr>\n",
       "    <tr>\n",
       "      <th>4996</th>\n",
       "      <td>David Bowie</td>\n",
       "      <td>Dodo</td>\n",
       "      <td>now we can talk in confidence  \\r did you gues...</td>\n",
       "    </tr>\n",
       "    <tr>\n",
       "      <th>4997</th>\n",
       "      <td>Iggy Pop</td>\n",
       "      <td>Gimme Some Skin</td>\n",
       "      <td>gimme some skin  \\r gimme some skin  \\r oh bab...</td>\n",
       "    </tr>\n",
       "    <tr>\n",
       "      <th>4998</th>\n",
       "      <td>Leann Rimes</td>\n",
       "      <td>I Believe</td>\n",
       "      <td>i believe for every drop of rain that falls  \\...</td>\n",
       "    </tr>\n",
       "    <tr>\n",
       "      <th>4999</th>\n",
       "      <td>Blur</td>\n",
       "      <td>I Broadcast</td>\n",
       "      <td>i love the aspects of another city  \\r the rep...</td>\n",
       "    </tr>\n",
       "  </tbody>\n",
       "</table>\n",
       "</div>"
      ],
      "text/plain": [
       "           artist                                         song  \\\n",
       "4995   Paul Simon  The 59th Street Bridge Song (Feelin Groovy)   \n",
       "4996  David Bowie                                         Dodo   \n",
       "4997     Iggy Pop                              Gimme Some Skin   \n",
       "4998  Leann Rimes                                    I Believe   \n",
       "4999         Blur                                  I Broadcast   \n",
       "\n",
       "                                                   text  \n",
       "4995  slow down, you move too fast.  \\r you got to m...  \n",
       "4996  now we can talk in confidence  \\r did you gues...  \n",
       "4997  gimme some skin  \\r gimme some skin  \\r oh bab...  \n",
       "4998  i believe for every drop of rain that falls  \\...  \n",
       "4999  i love the aspects of another city  \\r the rep...  "
      ]
     },
     "execution_count": 217,
     "metadata": {},
     "output_type": "execute_result"
    }
   ],
   "source": [
    "df.tail(5)"
   ]
  },
  {
   "cell_type": "code",
   "execution_count": 218,
   "id": "b5d29385",
   "metadata": {},
   "outputs": [
    {
     "data": {
      "text/html": [
       "<div>\n",
       "<style scoped>\n",
       "    .dataframe tbody tr th:only-of-type {\n",
       "        vertical-align: middle;\n",
       "    }\n",
       "\n",
       "    .dataframe tbody tr th {\n",
       "        vertical-align: top;\n",
       "    }\n",
       "\n",
       "    .dataframe thead th {\n",
       "        text-align: right;\n",
       "    }\n",
       "</style>\n",
       "<table border=\"1\" class=\"dataframe\">\n",
       "  <thead>\n",
       "    <tr style=\"text-align: right;\">\n",
       "      <th></th>\n",
       "      <th>artist</th>\n",
       "      <th>song</th>\n",
       "      <th>text</th>\n",
       "    </tr>\n",
       "  </thead>\n",
       "  <tbody>\n",
       "    <tr>\n",
       "      <th>4997</th>\n",
       "      <td>Iggy Pop</td>\n",
       "      <td>Gimme Some Skin</td>\n",
       "      <td>gimme some skin  \\r gimme some skin  \\r oh bab...</td>\n",
       "    </tr>\n",
       "  </tbody>\n",
       "</table>\n",
       "</div>"
      ],
      "text/plain": [
       "        artist             song  \\\n",
       "4997  Iggy Pop  Gimme Some Skin   \n",
       "\n",
       "                                                   text  \n",
       "4997  gimme some skin  \\r gimme some skin  \\r oh bab...  "
      ]
     },
     "execution_count": 218,
     "metadata": {},
     "output_type": "execute_result"
    }
   ],
   "source": [
    "df[df['song']=='Gimme Some Skin'] "
   ]
  },
  {
   "cell_type": "code",
   "execution_count": 219,
   "id": "9a4d5e3c",
   "metadata": {},
   "outputs": [
    {
     "data": {
      "text/plain": [
       "4997"
      ]
     },
     "execution_count": 219,
     "metadata": {},
     "output_type": "execute_result"
    }
   ],
   "source": [
    "df[df['song']=='Gimme Some Skin'].index[0]"
   ]
  },
  {
   "cell_type": "code",
   "execution_count": 225,
   "id": "6c48589d",
   "metadata": {},
   "outputs": [],
   "source": [
    "def recommender(song_name):\n",
    "    idx = df[df['song']==song_name].index[0]\n",
    "    distance = sorted(list(enumerate(similer[idx])), reverse=True, key =lambda x:x[1])\n",
    "    song = []\n",
    "    for s_id in distance[1:10]:\n",
    "        song.append(df.iloc[s_id[0]].song)\n",
    "    return song"
   ]
  },
  {
   "cell_type": "code",
   "execution_count": 226,
   "id": "84fd2399",
   "metadata": {},
   "outputs": [
    {
     "data": {
      "text/plain": [
       "['Gimme What You Got',\n",
       " 'Gimme Gimme Gimme',\n",
       " 'Gimme More',\n",
       " \"Gimme All Your Lovin'\",\n",
       " \"Gimme What's Mine\",\n",
       " 'The Ballad Of TV Violence',\n",
       " 'Zoloft',\n",
       " 'Move Away',\n",
       " \"I've Got You Under My Skin\"]"
      ]
     },
     "execution_count": 226,
     "metadata": {},
     "output_type": "execute_result"
    }
   ],
   "source": [
    "recommender(\"Gimme Some Skin\")"
   ]
  },
  {
   "cell_type": "code",
   "execution_count": 227,
   "id": "50fca047",
   "metadata": {},
   "outputs": [],
   "source": [
    "import pickle"
   ]
  },
  {
   "cell_type": "code",
   "execution_count": 229,
   "id": "2e2d2232",
   "metadata": {},
   "outputs": [],
   "source": [
    "pickle.dump(similer, open(\" similarity\", \"wb\"))"
   ]
  },
  {
   "cell_type": "code",
   "execution_count": 230,
   "id": "88023684",
   "metadata": {},
   "outputs": [],
   "source": [
    "pickle.dump(df, open(\"df\", \"wb\"))"
   ]
  },
  {
   "cell_type": "code",
   "execution_count": null,
   "id": "5774cd2c",
   "metadata": {},
   "outputs": [],
   "source": []
  }
 ],
 "metadata": {
  "kernelspec": {
   "display_name": "Python 3 (ipykernel)",
   "language": "python",
   "name": "python3"
  },
  "language_info": {
   "codemirror_mode": {
    "name": "ipython",
    "version": 3
   },
   "file_extension": ".py",
   "mimetype": "text/x-python",
   "name": "python",
   "nbconvert_exporter": "python",
   "pygments_lexer": "ipython3",
   "version": "3.11.5"
  }
 },
 "nbformat": 4,
 "nbformat_minor": 5
}
